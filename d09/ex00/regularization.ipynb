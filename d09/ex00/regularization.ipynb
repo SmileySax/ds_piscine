{
 "cells": [
  {
   "cell_type": "markdown",
   "metadata": {},
   "source": [
    "# Day 09. Exercise 00\n",
    "# Regularization"
   ]
  },
  {
   "cell_type": "markdown",
   "metadata": {},
   "source": [
    "## 0. Imports"
   ]
  },
  {
   "cell_type": "code",
   "execution_count": 72,
   "metadata": {},
   "outputs": [],
   "source": [
    "import pandas as pd\n",
    "import matplotlib.pyplot as plt\n",
    "import seaborn as sns\n",
    "import numpy as np\n",
    "from collections import Counter\n",
    "\n",
    "from sklearn.model_selection import train_test_split, cross_val_score, StratifiedKFold\n",
    "from sklearn import metrics, svm, linear_model, tree, ensemble\n",
    "\n",
    "import pickle"
   ]
  },
  {
   "cell_type": "markdown",
   "metadata": {},
   "source": [
    "## 1. Preprocessing"
   ]
  },
  {
   "cell_type": "markdown",
   "metadata": {},
   "source": [
    "1. Read the file `dayofweek.csv` that you used in the previous day to a dataframe.\n",
    "2. Using `train_test_split` with parameters `test_size=0.2`, `random_state=21` get `X_train`, `y_train`, `X_test`, `y_test`. Use the additional parameter `stratify`."
   ]
  },
  {
   "cell_type": "code",
   "execution_count": 107,
   "metadata": {},
   "outputs": [
    {
     "data": {
      "text/html": [
       "<div>\n",
       "<style scoped>\n",
       "    .dataframe tbody tr th:only-of-type {\n",
       "        vertical-align: middle;\n",
       "    }\n",
       "\n",
       "    .dataframe tbody tr th {\n",
       "        vertical-align: top;\n",
       "    }\n",
       "\n",
       "    .dataframe thead th {\n",
       "        text-align: right;\n",
       "    }\n",
       "</style>\n",
       "<table border=\"1\" class=\"dataframe\">\n",
       "  <thead>\n",
       "    <tr style=\"text-align: right;\">\n",
       "      <th></th>\n",
       "      <th>numTrials</th>\n",
       "      <th>hour</th>\n",
       "      <th>dayofweek</th>\n",
       "      <th>uid_user_0</th>\n",
       "      <th>uid_user_1</th>\n",
       "      <th>uid_user_10</th>\n",
       "      <th>uid_user_11</th>\n",
       "      <th>uid_user_12</th>\n",
       "      <th>uid_user_13</th>\n",
       "      <th>uid_user_14</th>\n",
       "      <th>...</th>\n",
       "      <th>labname_lab02</th>\n",
       "      <th>labname_lab03</th>\n",
       "      <th>labname_lab03s</th>\n",
       "      <th>labname_lab05s</th>\n",
       "      <th>labname_laba04</th>\n",
       "      <th>labname_laba04s</th>\n",
       "      <th>labname_laba05</th>\n",
       "      <th>labname_laba06</th>\n",
       "      <th>labname_laba06s</th>\n",
       "      <th>labname_project1</th>\n",
       "    </tr>\n",
       "    <tr>\n",
       "      <th>index</th>\n",
       "      <th></th>\n",
       "      <th></th>\n",
       "      <th></th>\n",
       "      <th></th>\n",
       "      <th></th>\n",
       "      <th></th>\n",
       "      <th></th>\n",
       "      <th></th>\n",
       "      <th></th>\n",
       "      <th></th>\n",
       "      <th></th>\n",
       "      <th></th>\n",
       "      <th></th>\n",
       "      <th></th>\n",
       "      <th></th>\n",
       "      <th></th>\n",
       "      <th></th>\n",
       "      <th></th>\n",
       "      <th></th>\n",
       "      <th></th>\n",
       "      <th></th>\n",
       "    </tr>\n",
       "  </thead>\n",
       "  <tbody>\n",
       "    <tr>\n",
       "      <th>0</th>\n",
       "      <td>-0.788667</td>\n",
       "      <td>-2.562352</td>\n",
       "      <td>4</td>\n",
       "      <td>0.0</td>\n",
       "      <td>0.0</td>\n",
       "      <td>0.0</td>\n",
       "      <td>0.0</td>\n",
       "      <td>0.0</td>\n",
       "      <td>0.0</td>\n",
       "      <td>0.0</td>\n",
       "      <td>...</td>\n",
       "      <td>0.0</td>\n",
       "      <td>0.0</td>\n",
       "      <td>0.0</td>\n",
       "      <td>0.0</td>\n",
       "      <td>0.0</td>\n",
       "      <td>0.0</td>\n",
       "      <td>0.0</td>\n",
       "      <td>0.0</td>\n",
       "      <td>0.0</td>\n",
       "      <td>1.0</td>\n",
       "    </tr>\n",
       "    <tr>\n",
       "      <th>1</th>\n",
       "      <td>-0.756764</td>\n",
       "      <td>-2.562352</td>\n",
       "      <td>4</td>\n",
       "      <td>0.0</td>\n",
       "      <td>0.0</td>\n",
       "      <td>0.0</td>\n",
       "      <td>0.0</td>\n",
       "      <td>0.0</td>\n",
       "      <td>0.0</td>\n",
       "      <td>0.0</td>\n",
       "      <td>...</td>\n",
       "      <td>0.0</td>\n",
       "      <td>0.0</td>\n",
       "      <td>0.0</td>\n",
       "      <td>0.0</td>\n",
       "      <td>0.0</td>\n",
       "      <td>0.0</td>\n",
       "      <td>0.0</td>\n",
       "      <td>0.0</td>\n",
       "      <td>0.0</td>\n",
       "      <td>1.0</td>\n",
       "    </tr>\n",
       "    <tr>\n",
       "      <th>2</th>\n",
       "      <td>-0.724861</td>\n",
       "      <td>-2.562352</td>\n",
       "      <td>4</td>\n",
       "      <td>0.0</td>\n",
       "      <td>0.0</td>\n",
       "      <td>0.0</td>\n",
       "      <td>0.0</td>\n",
       "      <td>0.0</td>\n",
       "      <td>0.0</td>\n",
       "      <td>0.0</td>\n",
       "      <td>...</td>\n",
       "      <td>0.0</td>\n",
       "      <td>0.0</td>\n",
       "      <td>0.0</td>\n",
       "      <td>0.0</td>\n",
       "      <td>0.0</td>\n",
       "      <td>0.0</td>\n",
       "      <td>0.0</td>\n",
       "      <td>0.0</td>\n",
       "      <td>0.0</td>\n",
       "      <td>1.0</td>\n",
       "    </tr>\n",
       "    <tr>\n",
       "      <th>3</th>\n",
       "      <td>-0.692958</td>\n",
       "      <td>-2.562352</td>\n",
       "      <td>4</td>\n",
       "      <td>0.0</td>\n",
       "      <td>0.0</td>\n",
       "      <td>0.0</td>\n",
       "      <td>0.0</td>\n",
       "      <td>0.0</td>\n",
       "      <td>0.0</td>\n",
       "      <td>0.0</td>\n",
       "      <td>...</td>\n",
       "      <td>0.0</td>\n",
       "      <td>0.0</td>\n",
       "      <td>0.0</td>\n",
       "      <td>0.0</td>\n",
       "      <td>0.0</td>\n",
       "      <td>0.0</td>\n",
       "      <td>0.0</td>\n",
       "      <td>0.0</td>\n",
       "      <td>0.0</td>\n",
       "      <td>1.0</td>\n",
       "    </tr>\n",
       "    <tr>\n",
       "      <th>4</th>\n",
       "      <td>-0.661055</td>\n",
       "      <td>-2.562352</td>\n",
       "      <td>4</td>\n",
       "      <td>0.0</td>\n",
       "      <td>0.0</td>\n",
       "      <td>0.0</td>\n",
       "      <td>0.0</td>\n",
       "      <td>0.0</td>\n",
       "      <td>0.0</td>\n",
       "      <td>0.0</td>\n",
       "      <td>...</td>\n",
       "      <td>0.0</td>\n",
       "      <td>0.0</td>\n",
       "      <td>0.0</td>\n",
       "      <td>0.0</td>\n",
       "      <td>0.0</td>\n",
       "      <td>0.0</td>\n",
       "      <td>0.0</td>\n",
       "      <td>0.0</td>\n",
       "      <td>0.0</td>\n",
       "      <td>1.0</td>\n",
       "    </tr>\n",
       "    <tr>\n",
       "      <th>...</th>\n",
       "      <td>...</td>\n",
       "      <td>...</td>\n",
       "      <td>...</td>\n",
       "      <td>...</td>\n",
       "      <td>...</td>\n",
       "      <td>...</td>\n",
       "      <td>...</td>\n",
       "      <td>...</td>\n",
       "      <td>...</td>\n",
       "      <td>...</td>\n",
       "      <td>...</td>\n",
       "      <td>...</td>\n",
       "      <td>...</td>\n",
       "      <td>...</td>\n",
       "      <td>...</td>\n",
       "      <td>...</td>\n",
       "      <td>...</td>\n",
       "      <td>...</td>\n",
       "      <td>...</td>\n",
       "      <td>...</td>\n",
       "      <td>...</td>\n",
       "    </tr>\n",
       "    <tr>\n",
       "      <th>1681</th>\n",
       "      <td>-0.533442</td>\n",
       "      <td>0.945382</td>\n",
       "      <td>3</td>\n",
       "      <td>0.0</td>\n",
       "      <td>0.0</td>\n",
       "      <td>0.0</td>\n",
       "      <td>0.0</td>\n",
       "      <td>0.0</td>\n",
       "      <td>0.0</td>\n",
       "      <td>0.0</td>\n",
       "      <td>...</td>\n",
       "      <td>0.0</td>\n",
       "      <td>0.0</td>\n",
       "      <td>0.0</td>\n",
       "      <td>0.0</td>\n",
       "      <td>0.0</td>\n",
       "      <td>0.0</td>\n",
       "      <td>0.0</td>\n",
       "      <td>0.0</td>\n",
       "      <td>1.0</td>\n",
       "      <td>0.0</td>\n",
       "    </tr>\n",
       "    <tr>\n",
       "      <th>1682</th>\n",
       "      <td>-0.629151</td>\n",
       "      <td>0.945382</td>\n",
       "      <td>3</td>\n",
       "      <td>0.0</td>\n",
       "      <td>1.0</td>\n",
       "      <td>0.0</td>\n",
       "      <td>0.0</td>\n",
       "      <td>0.0</td>\n",
       "      <td>0.0</td>\n",
       "      <td>0.0</td>\n",
       "      <td>...</td>\n",
       "      <td>0.0</td>\n",
       "      <td>0.0</td>\n",
       "      <td>0.0</td>\n",
       "      <td>0.0</td>\n",
       "      <td>0.0</td>\n",
       "      <td>0.0</td>\n",
       "      <td>0.0</td>\n",
       "      <td>0.0</td>\n",
       "      <td>1.0</td>\n",
       "      <td>0.0</td>\n",
       "    </tr>\n",
       "    <tr>\n",
       "      <th>1683</th>\n",
       "      <td>-0.597248</td>\n",
       "      <td>0.945382</td>\n",
       "      <td>3</td>\n",
       "      <td>0.0</td>\n",
       "      <td>1.0</td>\n",
       "      <td>0.0</td>\n",
       "      <td>0.0</td>\n",
       "      <td>0.0</td>\n",
       "      <td>0.0</td>\n",
       "      <td>0.0</td>\n",
       "      <td>...</td>\n",
       "      <td>0.0</td>\n",
       "      <td>0.0</td>\n",
       "      <td>0.0</td>\n",
       "      <td>0.0</td>\n",
       "      <td>0.0</td>\n",
       "      <td>0.0</td>\n",
       "      <td>0.0</td>\n",
       "      <td>0.0</td>\n",
       "      <td>1.0</td>\n",
       "      <td>0.0</td>\n",
       "    </tr>\n",
       "    <tr>\n",
       "      <th>1684</th>\n",
       "      <td>-0.565345</td>\n",
       "      <td>0.945382</td>\n",
       "      <td>3</td>\n",
       "      <td>0.0</td>\n",
       "      <td>1.0</td>\n",
       "      <td>0.0</td>\n",
       "      <td>0.0</td>\n",
       "      <td>0.0</td>\n",
       "      <td>0.0</td>\n",
       "      <td>0.0</td>\n",
       "      <td>...</td>\n",
       "      <td>0.0</td>\n",
       "      <td>0.0</td>\n",
       "      <td>0.0</td>\n",
       "      <td>0.0</td>\n",
       "      <td>0.0</td>\n",
       "      <td>0.0</td>\n",
       "      <td>0.0</td>\n",
       "      <td>0.0</td>\n",
       "      <td>1.0</td>\n",
       "      <td>0.0</td>\n",
       "    </tr>\n",
       "    <tr>\n",
       "      <th>1685</th>\n",
       "      <td>-0.533442</td>\n",
       "      <td>0.945382</td>\n",
       "      <td>3</td>\n",
       "      <td>0.0</td>\n",
       "      <td>1.0</td>\n",
       "      <td>0.0</td>\n",
       "      <td>0.0</td>\n",
       "      <td>0.0</td>\n",
       "      <td>0.0</td>\n",
       "      <td>0.0</td>\n",
       "      <td>...</td>\n",
       "      <td>0.0</td>\n",
       "      <td>0.0</td>\n",
       "      <td>0.0</td>\n",
       "      <td>0.0</td>\n",
       "      <td>0.0</td>\n",
       "      <td>0.0</td>\n",
       "      <td>0.0</td>\n",
       "      <td>0.0</td>\n",
       "      <td>1.0</td>\n",
       "      <td>0.0</td>\n",
       "    </tr>\n",
       "  </tbody>\n",
       "</table>\n",
       "<p>1686 rows × 44 columns</p>\n",
       "</div>"
      ],
      "text/plain": [
       "       numTrials      hour  dayofweek  uid_user_0  uid_user_1  uid_user_10  \\\n",
       "index                                                                        \n",
       "0      -0.788667 -2.562352          4         0.0         0.0          0.0   \n",
       "1      -0.756764 -2.562352          4         0.0         0.0          0.0   \n",
       "2      -0.724861 -2.562352          4         0.0         0.0          0.0   \n",
       "3      -0.692958 -2.562352          4         0.0         0.0          0.0   \n",
       "4      -0.661055 -2.562352          4         0.0         0.0          0.0   \n",
       "...          ...       ...        ...         ...         ...          ...   \n",
       "1681   -0.533442  0.945382          3         0.0         0.0          0.0   \n",
       "1682   -0.629151  0.945382          3         0.0         1.0          0.0   \n",
       "1683   -0.597248  0.945382          3         0.0         1.0          0.0   \n",
       "1684   -0.565345  0.945382          3         0.0         1.0          0.0   \n",
       "1685   -0.533442  0.945382          3         0.0         1.0          0.0   \n",
       "\n",
       "       uid_user_11  uid_user_12  uid_user_13  uid_user_14  ...  labname_lab02  \\\n",
       "index                                                      ...                  \n",
       "0              0.0          0.0          0.0          0.0  ...            0.0   \n",
       "1              0.0          0.0          0.0          0.0  ...            0.0   \n",
       "2              0.0          0.0          0.0          0.0  ...            0.0   \n",
       "3              0.0          0.0          0.0          0.0  ...            0.0   \n",
       "4              0.0          0.0          0.0          0.0  ...            0.0   \n",
       "...            ...          ...          ...          ...  ...            ...   \n",
       "1681           0.0          0.0          0.0          0.0  ...            0.0   \n",
       "1682           0.0          0.0          0.0          0.0  ...            0.0   \n",
       "1683           0.0          0.0          0.0          0.0  ...            0.0   \n",
       "1684           0.0          0.0          0.0          0.0  ...            0.0   \n",
       "1685           0.0          0.0          0.0          0.0  ...            0.0   \n",
       "\n",
       "       labname_lab03  labname_lab03s  labname_lab05s  labname_laba04  \\\n",
       "index                                                                  \n",
       "0                0.0             0.0             0.0             0.0   \n",
       "1                0.0             0.0             0.0             0.0   \n",
       "2                0.0             0.0             0.0             0.0   \n",
       "3                0.0             0.0             0.0             0.0   \n",
       "4                0.0             0.0             0.0             0.0   \n",
       "...              ...             ...             ...             ...   \n",
       "1681             0.0             0.0             0.0             0.0   \n",
       "1682             0.0             0.0             0.0             0.0   \n",
       "1683             0.0             0.0             0.0             0.0   \n",
       "1684             0.0             0.0             0.0             0.0   \n",
       "1685             0.0             0.0             0.0             0.0   \n",
       "\n",
       "       labname_laba04s  labname_laba05  labname_laba06  labname_laba06s  \\\n",
       "index                                                                     \n",
       "0                  0.0             0.0             0.0              0.0   \n",
       "1                  0.0             0.0             0.0              0.0   \n",
       "2                  0.0             0.0             0.0              0.0   \n",
       "3                  0.0             0.0             0.0              0.0   \n",
       "4                  0.0             0.0             0.0              0.0   \n",
       "...                ...             ...             ...              ...   \n",
       "1681               0.0             0.0             0.0              1.0   \n",
       "1682               0.0             0.0             0.0              1.0   \n",
       "1683               0.0             0.0             0.0              1.0   \n",
       "1684               0.0             0.0             0.0              1.0   \n",
       "1685               0.0             0.0             0.0              1.0   \n",
       "\n",
       "       labname_project1  \n",
       "index                    \n",
       "0                   1.0  \n",
       "1                   1.0  \n",
       "2                   1.0  \n",
       "3                   1.0  \n",
       "4                   1.0  \n",
       "...                 ...  \n",
       "1681                0.0  \n",
       "1682                0.0  \n",
       "1683                0.0  \n",
       "1684                0.0  \n",
       "1685                0.0  \n",
       "\n",
       "[1686 rows x 44 columns]"
      ]
     },
     "execution_count": 107,
     "metadata": {},
     "output_type": "execute_result"
    }
   ],
   "source": [
    "df = pd.read_csv('../data/dayofweek.csv', index_col='index')\n",
    "df"
   ]
  },
  {
   "cell_type": "code",
   "execution_count": 74,
   "metadata": {},
   "outputs": [],
   "source": [
    "X = df.drop(columns='dayofweek').values\n",
    "y = df.dayofweek.values"
   ]
  },
  {
   "cell_type": "code",
   "execution_count": 75,
   "metadata": {},
   "outputs": [],
   "source": [
    "X_train, X_test, y_train, y_test = train_test_split(X, y, test_size=0.2, random_state=21, stratify=y)"
   ]
  },
  {
   "cell_type": "markdown",
   "metadata": {},
   "source": [
    "## 2. Logreg regularization"
   ]
  },
  {
   "cell_type": "markdown",
   "metadata": {},
   "source": [
    "### a. Default regularization"
   ]
  },
  {
   "cell_type": "markdown",
   "metadata": {},
   "source": [
    "1. Train a baseline model with the only parameters `random_state=21`, `fit_intercept=False`.\n",
    "2. Use stratified K-fold cross-validation with `10` splits to evaluate the accuracy of the model\n",
    "\n",
    "\n",
    "The result of the code where you trained and evaluated the baseline model should be exactly like this (use `%%time` to get the info about how long it took to run the cell):\n",
    "\n",
    "```\n",
    "train -  0.62902   |   valid -  0.59259\n",
    "train -  0.64633   |   valid -  0.62963\n",
    "train -  0.63479   |   valid -  0.56296\n",
    "train -  0.65622   |   valid -  0.61481\n",
    "train -  0.63397   |   valid -  0.57778\n",
    "train -  0.64056   |   valid -  0.59259\n",
    "train -  0.64138   |   valid -  0.65926\n",
    "train -  0.65952   |   valid -  0.56296\n",
    "train -  0.64333   |   valid -  0.59701\n",
    "train -  0.63674   |   valid -  0.62687\n",
    "Average accuracy on crossval is 0.60165\n",
    "Std is 0.02943\n",
    "```"
   ]
  },
  {
   "cell_type": "code",
   "execution_count": 76,
   "metadata": {},
   "outputs": [],
   "source": [
    "def xval(model, splits=10):\n",
    "    kf = StratifiedKFold(splits)\n",
    "    for train, test in kf.split(X_train, y_train):\n",
    "        model.fit(X_train[train], y_train[train])\n",
    "        train_ac = metrics.accuracy_score(model.predict(X_train[train]), y_train[train])\n",
    "        test_ac = metrics.accuracy_score(model.predict(X_train[test]), y_train[test])\n",
    "        print(f'train -  {train_ac:1.5f}  |  valid -  {test_ac:1.5f}')\n",
    "    acc_info = cross_val_score(model, X_train, y_train, cv=kf, n_jobs=-1)\n",
    "    print(f'Average accuracy on crossval is {acc_info.mean():1.5f}')\n",
    "    print(f'Std is {acc_info.std():1.5f}\\n')"
   ]
  },
  {
   "cell_type": "code",
   "execution_count": 77,
   "metadata": {},
   "outputs": [
    {
     "name": "stdout",
     "output_type": "stream",
     "text": [
      "train -  0.62902  |  valid -  0.59259\n",
      "train -  0.64633  |  valid -  0.62963\n",
      "train -  0.63479  |  valid -  0.56296\n",
      "train -  0.65622  |  valid -  0.61481\n",
      "train -  0.63397  |  valid -  0.57778\n",
      "train -  0.64056  |  valid -  0.59259\n",
      "train -  0.64138  |  valid -  0.65926\n",
      "train -  0.65952  |  valid -  0.56296\n",
      "train -  0.64333  |  valid -  0.59701\n",
      "train -  0.63674  |  valid -  0.62687\n",
      "Average accuracy on crossval is 0.60165\n",
      "Std is 0.02943\n",
      "\n",
      "7.6 s ± 0 ns per loop (mean ± std. dev. of 1 run, 1 loop each)\n"
     ]
    }
   ],
   "source": [
    "%%timeit -n 1 -r 1\n",
    "\n",
    "lr_model = linear_model.LogisticRegression(random_state=21, fit_intercept=False)\n",
    "xval(lr_model)"
   ]
  },
  {
   "cell_type": "markdown",
   "metadata": {},
   "source": [
    "### b. Optimizing regularization parameters"
   ]
  },
  {
   "cell_type": "markdown",
   "metadata": {},
   "source": [
    "1. In the cells below try different values of penalty: `none`, `l1`, `l2` – you can change the values of solver too."
   ]
  },
  {
   "cell_type": "markdown",
   "metadata": {},
   "source": [
    "solver{‘newton-cg’, ‘lbfgs’, ‘liblinear’, ‘sag’, ‘saga’}, default=’lbfgs’"
   ]
  },
  {
   "cell_type": "code",
   "execution_count": 78,
   "metadata": {},
   "outputs": [
    {
     "name": "stdout",
     "output_type": "stream",
     "text": [
      "train -  0.66612  |  valid -  0.63704\n",
      "train -  0.65787  |  valid -  0.65926\n",
      "train -  0.66694  |  valid -  0.57778\n",
      "train -  0.66529  |  valid -  0.62963\n",
      "train -  0.66694  |  valid -  0.62222\n",
      "train -  0.65952  |  valid -  0.57778\n",
      "train -  0.65045  |  valid -  0.69630\n",
      "train -  0.68425  |  valid -  0.61481\n",
      "train -  0.66474  |  valid -  0.62687\n",
      "train -  0.65651  |  valid -  0.60448\n",
      "Average accuracy on crossval is 0.62462\n",
      "Std is 0.03379\n",
      "\n",
      "4.9 s ± 0 ns per loop (mean ± std. dev. of 1 run, 1 loop each)\n"
     ]
    }
   ],
   "source": [
    "%%timeit -n 1 -r 1\n",
    "\n",
    "lr_model = linear_model.LogisticRegression(random_state=21, fit_intercept=False, max_iter=1000, penalty='none')\n",
    "xval(lr_model, 10)"
   ]
  },
  {
   "cell_type": "code",
   "execution_count": 79,
   "metadata": {},
   "outputs": [
    {
     "name": "stdout",
     "output_type": "stream",
     "text": [
      "train -  0.61830  |  valid -  0.54815\n",
      "train -  0.62737  |  valid -  0.62222\n",
      "train -  0.60511  |  valid -  0.54074\n",
      "train -  0.63644  |  valid -  0.62222\n",
      "train -  0.62407  |  valid -  0.55556\n",
      "train -  0.62325  |  valid -  0.58519\n",
      "train -  0.61253  |  valid -  0.63704\n",
      "train -  0.64716  |  valid -  0.58519\n",
      "train -  0.63015  |  valid -  0.59701\n",
      "train -  0.61367  |  valid -  0.59701\n",
      "Average accuracy on crossval is 0.58903\n",
      "Std is 0.03129\n",
      "\n",
      "344 ms ± 0 ns per loop (mean ± std. dev. of 1 run, 1 loop each)\n"
     ]
    }
   ],
   "source": [
    "%%timeit -n 1 -r 1\n",
    "\n",
    "lr_model = linear_model.LogisticRegression(random_state=21, fit_intercept=False, max_iter=1000, penalty='l1', solver='liblinear')\n",
    "xval(lr_model, 10)"
   ]
  },
  {
   "cell_type": "code",
   "execution_count": 80,
   "metadata": {},
   "outputs": [
    {
     "name": "stdout",
     "output_type": "stream",
     "text": [
      "train -  0.61006  |  valid -  0.56296\n",
      "train -  0.61665  |  valid -  0.61481\n",
      "train -  0.61336  |  valid -  0.59259\n",
      "train -  0.62902  |  valid -  0.60741\n",
      "train -  0.60923  |  valid -  0.55556\n",
      "train -  0.61500  |  valid -  0.57778\n",
      "train -  0.61665  |  valid -  0.61481\n",
      "train -  0.64056  |  valid -  0.53333\n",
      "train -  0.62109  |  valid -  0.58209\n",
      "train -  0.61120  |  valid -  0.57463\n",
      "Average accuracy on crossval is 0.58160\n",
      "Std is 0.02532\n",
      "\n",
      "250 ms ± 0 ns per loop (mean ± std. dev. of 1 run, 1 loop each)\n"
     ]
    }
   ],
   "source": [
    "%%timeit -n 1 -r 1\n",
    "\n",
    "lr_model = linear_model.LogisticRegression(random_state=21, fit_intercept=False, max_iter=1000, penalty='l2', solver='liblinear')\n",
    "xval(lr_model)"
   ]
  },
  {
   "cell_type": "markdown",
   "metadata": {},
   "source": [
    "## 3. SVM regularization"
   ]
  },
  {
   "cell_type": "markdown",
   "metadata": {},
   "source": [
    "### a. Default regularization"
   ]
  },
  {
   "cell_type": "markdown",
   "metadata": {},
   "source": [
    "1. Train a baseline model with the only parameters `probability=True`, `kernel='linear'`, `random_state=21`.\n",
    "2. Use stratified K-fold cross-validation with `10` splits to evaluate the accuracy of the model.\n",
    "3. The format of the result of the code where you trained and evaluated the baseline model should be similar to what you have got for the logreg."
   ]
  },
  {
   "cell_type": "markdown",
   "metadata": {},
   "source": [
    "‘linear’, ‘poly’, ‘rbf’, ‘sigmoid’, ‘precomputed’"
   ]
  },
  {
   "cell_type": "code",
   "execution_count": 81,
   "metadata": {},
   "outputs": [
    {
     "name": "stdout",
     "output_type": "stream",
     "text": [
      "train -  0.70486  |  valid -  0.65926\n",
      "train -  0.69662  |  valid -  0.75556\n",
      "train -  0.69415  |  valid -  0.62222\n",
      "train -  0.70239  |  valid -  0.65185\n",
      "train -  0.69085  |  valid -  0.65185\n",
      "train -  0.68920  |  valid -  0.64444\n",
      "train -  0.69250  |  valid -  0.72593\n",
      "train -  0.70074  |  valid -  0.62222\n",
      "train -  0.69605  |  valid -  0.61940\n",
      "train -  0.71087  |  valid -  0.63433\n",
      "Average accuracy on crossval is 0.65871\n",
      "Std is 0.04359\n",
      "\n",
      "8.55 s ± 0 ns per loop (mean ± std. dev. of 1 run, 1 loop each)\n"
     ]
    }
   ],
   "source": [
    "%%timeit -n 1 -r 1\n",
    "svc_model = svm.SVC(probability=True, kernel='linear', random_state=21)\n",
    "xval(svc_model)"
   ]
  },
  {
   "cell_type": "markdown",
   "metadata": {},
   "source": [
    "### b. Optimizing regularization parameters"
   ]
  },
  {
   "cell_type": "markdown",
   "metadata": {},
   "source": [
    "1. In the cells below try different values of the parameter `C`."
   ]
  },
  {
   "cell_type": "code",
   "execution_count": 82,
   "metadata": {},
   "outputs": [
    {
     "name": "stdout",
     "output_type": "stream",
     "text": [
      "train -  0.58120  |  valid -  0.55556\n",
      "train -  0.57543  |  valid -  0.56296\n",
      "train -  0.57378  |  valid -  0.57037\n",
      "train -  0.59275  |  valid -  0.57037\n",
      "train -  0.58120  |  valid -  0.54815\n",
      "train -  0.57955  |  valid -  0.54815\n",
      "train -  0.57296  |  valid -  0.61481\n",
      "train -  0.59192  |  valid -  0.54815\n",
      "train -  0.59967  |  valid -  0.52985\n",
      "train -  0.57825  |  valid -  0.57463\n",
      "Average accuracy on crossval is 0.56230\n",
      "Std is 0.02177\n",
      "\n",
      "7.72 s ± 0 ns per loop (mean ± std. dev. of 1 run, 1 loop each)\n"
     ]
    }
   ],
   "source": [
    "%%timeit -n 1 -r 1\n",
    "svc_model = svm.SVC(probability=True, kernel='linear', random_state=21, C=0.1)\n",
    "xval(svc_model)"
   ]
  },
  {
   "cell_type": "code",
   "execution_count": 83,
   "metadata": {},
   "outputs": [
    {
     "name": "stdout",
     "output_type": "stream",
     "text": [
      "train -  0.66694  |  valid -  0.63704\n",
      "train -  0.66612  |  valid -  0.73333\n",
      "train -  0.67271  |  valid -  0.60741\n",
      "train -  0.67354  |  valid -  0.62963\n",
      "train -  0.67766  |  valid -  0.64444\n",
      "train -  0.66529  |  valid -  0.61481\n",
      "train -  0.66200  |  valid -  0.68889\n",
      "train -  0.66529  |  valid -  0.57037\n",
      "train -  0.67463  |  valid -  0.59701\n",
      "train -  0.66804  |  valid -  0.61194\n",
      "Average accuracy on crossval is 0.63349\n",
      "Std is 0.04471\n",
      "\n",
      "6.73 s ± 0 ns per loop (mean ± std. dev. of 1 run, 1 loop each)\n"
     ]
    }
   ],
   "source": [
    "%%timeit -n 1 -r 1\n",
    "svc_model = svm.SVC(probability=True, kernel='linear', random_state=21, C=0.5)\n",
    "xval(svc_model)"
   ]
  },
  {
   "cell_type": "code",
   "execution_count": 84,
   "metadata": {},
   "outputs": [
    {
     "name": "stdout",
     "output_type": "stream",
     "text": [
      "train -  0.70734  |  valid -  0.65926\n",
      "train -  0.71393  |  valid -  0.75556\n",
      "train -  0.74526  |  valid -  0.63704\n",
      "train -  0.71558  |  valid -  0.66667\n",
      "train -  0.71146  |  valid -  0.67407\n",
      "train -  0.70157  |  valid -  0.63704\n",
      "train -  0.70651  |  valid -  0.71852\n",
      "train -  0.70981  |  valid -  0.64444\n",
      "train -  0.72405  |  valid -  0.64925\n",
      "train -  0.72488  |  valid -  0.64179\n",
      "Average accuracy on crossval is 0.66836\n",
      "Std is 0.03721\n",
      "\n",
      "7.67 s ± 0 ns per loop (mean ± std. dev. of 1 run, 1 loop each)\n"
     ]
    }
   ],
   "source": [
    "%%timeit -n 1 -r 1\n",
    "svc_model = svm.SVC(probability=True, kernel='linear', random_state=21, C=2)\n",
    "xval(svc_model)"
   ]
  },
  {
   "cell_type": "code",
   "execution_count": 85,
   "metadata": {},
   "outputs": [
    {
     "name": "stdout",
     "output_type": "stream",
     "text": [
      "train -  0.71723  |  valid -  0.65185\n",
      "train -  0.75598  |  valid -  0.82222\n",
      "train -  0.77741  |  valid -  0.67407\n",
      "train -  0.73619  |  valid -  0.66667\n",
      "train -  0.72218  |  valid -  0.71111\n",
      "train -  0.72960  |  valid -  0.69630\n",
      "train -  0.72383  |  valid -  0.71852\n",
      "train -  0.74444  |  valid -  0.63704\n",
      "train -  0.75371  |  valid -  0.67164\n",
      "train -  0.75700  |  valid -  0.68657\n",
      "Average accuracy on crossval is 0.69360\n",
      "Std is 0.04905\n",
      "\n",
      "9.76 s ± 0 ns per loop (mean ± std. dev. of 1 run, 1 loop each)\n"
     ]
    }
   ],
   "source": [
    "%%timeit -n 1 -r 1\n",
    "svc_model = svm.SVC(probability=True, kernel='linear', random_state=21, C=4)\n",
    "xval(svc_model)"
   ]
  },
  {
   "cell_type": "markdown",
   "metadata": {},
   "source": [
    "## 4. Tree"
   ]
  },
  {
   "cell_type": "markdown",
   "metadata": {},
   "source": [
    "### a. Default regularization"
   ]
  },
  {
   "cell_type": "markdown",
   "metadata": {},
   "source": [
    "1. Train a baseline model with the only parameter `max_depth=10` and `random_state=21`.\n",
    "2. Use stratified K-fold cross-validation with `10` splits to evaluate the accuracy of the model.\n",
    "3. The format of the result of the code where you trained and evaluated the baseline model should be similar to what you have got for the logreg."
   ]
  },
  {
   "cell_type": "code",
   "execution_count": 86,
   "metadata": {},
   "outputs": [
    {
     "name": "stdout",
     "output_type": "stream",
     "text": [
      "train -  0.81039  |  valid -  0.74074\n",
      "train -  0.77741  |  valid -  0.74074\n",
      "train -  0.83347  |  valid -  0.70370\n",
      "train -  0.79720  |  valid -  0.76296\n",
      "train -  0.82440  |  valid -  0.75556\n",
      "train -  0.80379  |  valid -  0.68889\n",
      "train -  0.80709  |  valid -  0.76296\n",
      "train -  0.80132  |  valid -  0.65926\n",
      "train -  0.80807  |  valid -  0.75373\n",
      "train -  0.80478  |  valid -  0.68657\n",
      "Average accuracy on crossval is 0.72551\n",
      "Std is 0.03562\n",
      "\n",
      "223 ms ± 0 ns per loop (mean ± std. dev. of 1 run, 1 loop each)\n"
     ]
    }
   ],
   "source": [
    "%%timeit -n 1 -r 1\n",
    "tree_model = tree.DecisionTreeClassifier(max_depth=10, random_state=21)\n",
    "xval(tree_model)"
   ]
  },
  {
   "cell_type": "markdown",
   "metadata": {},
   "source": [
    "### b. Optimizing regularization parameters"
   ]
  },
  {
   "cell_type": "markdown",
   "metadata": {},
   "source": [
    "1. In the cells below try different values of the parameter `max_depth`.\n",
    "2. As a bonus, play with other regularization parameters trying to find the best combination."
   ]
  },
  {
   "cell_type": "code",
   "execution_count": 87,
   "metadata": {},
   "outputs": [
    {
     "name": "stdout",
     "output_type": "stream",
     "text": [
      "train -  0.59522  |  valid -  0.53333\n",
      "train -  0.56307  |  valid -  0.53333\n",
      "train -  0.60181  |  valid -  0.55556\n",
      "train -  0.59604  |  valid -  0.57037\n",
      "train -  0.60264  |  valid -  0.57778\n",
      "train -  0.57955  |  valid -  0.53333\n",
      "train -  0.58368  |  valid -  0.54815\n",
      "train -  0.59275  |  valid -  0.51111\n",
      "train -  0.58237  |  valid -  0.56716\n",
      "train -  0.60132  |  valid -  0.50000\n",
      "Average accuracy on crossval is 0.54301\n",
      "Std is 0.02423\n",
      "\n",
      "136 ms ± 0 ns per loop (mean ± std. dev. of 1 run, 1 loop each)\n"
     ]
    }
   ],
   "source": [
    "%%timeit -n 1 -r 1\n",
    "tree_model = tree.DecisionTreeClassifier(max_depth=5, random_state=21)\n",
    "xval(tree_model)"
   ]
  },
  {
   "cell_type": "code",
   "execution_count": 88,
   "metadata": {},
   "outputs": [
    {
     "name": "stdout",
     "output_type": "stream",
     "text": [
      "train -  0.95796  |  valid -  0.82222\n",
      "train -  0.93075  |  valid -  0.83704\n",
      "train -  0.95631  |  valid -  0.83704\n",
      "train -  0.95301  |  valid -  0.86667\n",
      "train -  0.95136  |  valid -  0.88889\n",
      "train -  0.94724  |  valid -  0.82222\n",
      "train -  0.95466  |  valid -  0.90370\n",
      "train -  0.94971  |  valid -  0.87407\n",
      "train -  0.95305  |  valid -  0.83582\n",
      "train -  0.94316  |  valid -  0.85821\n",
      "Average accuracy on crossval is 0.85459\n",
      "Std is 0.02682\n",
      "\n",
      "158 ms ± 0 ns per loop (mean ± std. dev. of 1 run, 1 loop each)\n"
     ]
    }
   ],
   "source": [
    "%%timeit -n 1 -r 1\n",
    "tree_model = tree.DecisionTreeClassifier(max_depth=15, random_state=21)\n",
    "xval(tree_model)"
   ]
  },
  {
   "cell_type": "code",
   "execution_count": 89,
   "metadata": {},
   "outputs": [
    {
     "name": "stdout",
     "output_type": "stream",
     "text": [
      "train -  0.98846  |  valid -  0.86667\n",
      "train -  0.99011  |  valid -  0.91111\n",
      "train -  0.98681  |  valid -  0.85926\n",
      "train -  0.98763  |  valid -  0.91111\n",
      "train -  0.98928  |  valid -  0.88148\n",
      "train -  0.98186  |  valid -  0.85926\n",
      "train -  0.98846  |  valid -  0.91852\n",
      "train -  0.99176  |  valid -  0.89630\n",
      "train -  0.99094  |  valid -  0.88060\n",
      "train -  0.98847  |  valid -  0.88060\n",
      "Average accuracy on crossval is 0.88649\n",
      "Std is 0.02075\n",
      "\n",
      "180 ms ± 0 ns per loop (mean ± std. dev. of 1 run, 1 loop each)\n"
     ]
    }
   ],
   "source": [
    "%%timeit -n 1 -r 1\n",
    "tree_model = tree.DecisionTreeClassifier(max_depth=20, random_state=21)\n",
    "xval(tree_model)"
   ]
  },
  {
   "cell_type": "code",
   "execution_count": 90,
   "metadata": {},
   "outputs": [
    {
     "name": "stdout",
     "output_type": "stream",
     "text": [
      "train -  0.44930  |  valid -  0.48889\n",
      "train -  0.45260  |  valid -  0.45926\n",
      "train -  0.45837  |  valid -  0.40741\n",
      "train -  0.44930  |  valid -  0.48889\n",
      "train -  0.45342  |  valid -  0.45185\n",
      "train -  0.45177  |  valid -  0.46667\n",
      "train -  0.45177  |  valid -  0.46667\n",
      "train -  0.45672  |  valid -  0.42222\n",
      "train -  0.42916  |  valid -  0.38806\n",
      "train -  0.45552  |  valid -  0.43284\n",
      "Average accuracy on crossval is 0.44727\n",
      "Std is 0.03211\n",
      "\n",
      "149 ms ± 0 ns per loop (mean ± std. dev. of 1 run, 1 loop each)\n"
     ]
    }
   ],
   "source": [
    "%%timeit -n 1 -r 1\n",
    "tree_model = tree.DecisionTreeClassifier(max_depth=10, max_leaf_nodes= 5, random_state=21)\n",
    "xval(tree_model)"
   ]
  },
  {
   "cell_type": "code",
   "execution_count": 91,
   "metadata": {},
   "outputs": [
    {
     "name": "stdout",
     "output_type": "stream",
     "text": [
      "train -  0.73619  |  valid -  0.71111\n",
      "train -  0.70816  |  valid -  0.69630\n",
      "train -  0.74279  |  valid -  0.67407\n",
      "train -  0.72712  |  valid -  0.68148\n",
      "train -  0.74114  |  valid -  0.70370\n",
      "train -  0.73454  |  valid -  0.66667\n",
      "train -  0.72877  |  valid -  0.71111\n",
      "train -  0.72712  |  valid -  0.62222\n",
      "train -  0.73970  |  valid -  0.69403\n",
      "train -  0.73229  |  valid -  0.64179\n",
      "Average accuracy on crossval is 0.68025\n",
      "Std is 0.02824\n",
      "\n",
      "165 ms ± 0 ns per loop (mean ± std. dev. of 1 run, 1 loop each)\n"
     ]
    }
   ],
   "source": [
    "%%timeit -n 1 -r 1\n",
    "tree_model = tree.DecisionTreeClassifier(max_depth=10, max_leaf_nodes= 45, random_state=21)\n",
    "xval(tree_model)"
   ]
  },
  {
   "cell_type": "code",
   "execution_count": 92,
   "metadata": {},
   "outputs": [
    {
     "name": "stdout",
     "output_type": "stream",
     "text": [
      "train -  0.75515  |  valid -  0.71111\n",
      "train -  0.71476  |  valid -  0.66667\n",
      "train -  0.78153  |  valid -  0.66667\n",
      "train -  0.75268  |  valid -  0.73333\n",
      "train -  0.76752  |  valid -  0.73333\n",
      "train -  0.75268  |  valid -  0.67407\n",
      "train -  0.74608  |  valid -  0.70370\n",
      "train -  0.74279  |  valid -  0.61481\n",
      "train -  0.75206  |  valid -  0.68657\n",
      "train -  0.74465  |  valid -  0.64179\n",
      "Average accuracy on crossval is 0.68321\n",
      "Std is 0.03641\n",
      "\n",
      "166 ms ± 0 ns per loop (mean ± std. dev. of 1 run, 1 loop each)\n"
     ]
    }
   ],
   "source": [
    "%%timeit -n 1 -r 1\n",
    "tree_model = tree.DecisionTreeClassifier(max_depth=10, min_samples_leaf= 5, random_state=21)\n",
    "xval(tree_model)"
   ]
  },
  {
   "cell_type": "code",
   "execution_count": 93,
   "metadata": {},
   "outputs": [
    {
     "name": "stdout",
     "output_type": "stream",
     "text": [
      "train -  0.79637  |  valid -  0.72593\n",
      "train -  0.75845  |  valid -  0.71852\n",
      "train -  0.81863  |  valid -  0.67407\n",
      "train -  0.78318  |  valid -  0.74074\n",
      "train -  0.81039  |  valid -  0.73333\n",
      "train -  0.79060  |  valid -  0.68889\n",
      "train -  0.79143  |  valid -  0.74815\n",
      "train -  0.78895  |  valid -  0.65185\n",
      "train -  0.79077  |  valid -  0.73134\n",
      "train -  0.79407  |  valid -  0.67910\n",
      "Average accuracy on crossval is 0.70919\n",
      "Std is 0.03129\n",
      "\n",
      "168 ms ± 0 ns per loop (mean ± std. dev. of 1 run, 1 loop each)\n"
     ]
    }
   ],
   "source": [
    "%%timeit -n 1 -r 1\n",
    "tree_model = tree.DecisionTreeClassifier(max_depth=10, min_samples_leaf= 2, random_state=21)\n",
    "xval(tree_model)"
   ]
  },
  {
   "cell_type": "code",
   "execution_count": 94,
   "metadata": {},
   "outputs": [
    {
     "name": "stdout",
     "output_type": "stream",
     "text": [
      "train -  0.95878  |  valid -  0.85185\n",
      "train -  0.95054  |  valid -  0.84444\n",
      "train -  0.95466  |  valid -  0.81481\n",
      "train -  0.94889  |  valid -  0.86667\n",
      "train -  0.95054  |  valid -  0.88148\n",
      "train -  0.94394  |  valid -  0.84444\n",
      "train -  0.94724  |  valid -  0.90370\n",
      "train -  0.94971  |  valid -  0.81481\n",
      "train -  0.94646  |  valid -  0.81343\n",
      "train -  0.95552  |  valid -  0.84328\n",
      "Average accuracy on crossval is 0.84789\n",
      "Std is 0.02834\n",
      "\n",
      "162 ms ± 0 ns per loop (mean ± std. dev. of 1 run, 1 loop each)\n"
     ]
    }
   ],
   "source": [
    "%%timeit -n 1 -r 1\n",
    "tree_model = tree.DecisionTreeClassifier(max_depth=20, min_samples_leaf= 2, random_state=21)\n",
    "xval(tree_model)"
   ]
  },
  {
   "cell_type": "markdown",
   "metadata": {},
   "source": [
    "## 5. Random forest"
   ]
  },
  {
   "cell_type": "markdown",
   "metadata": {},
   "source": [
    "### a. Default regularization"
   ]
  },
  {
   "cell_type": "markdown",
   "metadata": {},
   "source": [
    "1. Train a baseline model with the only parameters `n_estimators=50`, `max_depth=14`, `random_state=21`.\n",
    "2. Use stratified K-fold cross-validation with `10` splits to evaluate the accuracy of the model.\n",
    "3. The format of the result of the code where you trained and evaluated the baseline model should be similar to what you have got for the logreg."
   ]
  },
  {
   "cell_type": "code",
   "execution_count": 95,
   "metadata": {},
   "outputs": [
    {
     "name": "stdout",
     "output_type": "stream",
     "text": [
      "train -  0.96455  |  valid -  0.88148\n",
      "train -  0.96208  |  valid -  0.91852\n",
      "train -  0.96785  |  valid -  0.86667\n",
      "train -  0.96455  |  valid -  0.89630\n",
      "train -  0.96538  |  valid -  0.91111\n",
      "train -  0.96538  |  valid -  0.88148\n",
      "train -  0.97115  |  valid -  0.91852\n",
      "train -  0.96867  |  valid -  0.85185\n",
      "train -  0.97364  |  valid -  0.88060\n",
      "train -  0.97941  |  valid -  0.86567\n",
      "Average accuracy on crossval is 0.88722\n",
      "Std is 0.02204\n",
      "\n",
      "2.62 s ± 0 ns per loop (mean ± std. dev. of 1 run, 1 loop each)\n"
     ]
    }
   ],
   "source": [
    "%%timeit -n 1 -r 1\n",
    "rf_model = ensemble.RandomForestClassifier(n_estimators=50, max_depth=14, random_state=21)\n",
    "xval(rf_model)"
   ]
  },
  {
   "cell_type": "markdown",
   "metadata": {},
   "source": [
    "### b. Optimizing regularization parameters"
   ]
  },
  {
   "cell_type": "markdown",
   "metadata": {},
   "source": [
    "1. In the new cells try different values of the parameters `max_depth` and `n_estimators`.\n",
    "2. As a bonus, play with other regularization parameters trying to find the best combination."
   ]
  },
  {
   "cell_type": "code",
   "execution_count": 96,
   "metadata": {},
   "outputs": [
    {
     "name": "stdout",
     "output_type": "stream",
     "text": [
      "train -  0.95548  |  valid -  0.85926\n",
      "train -  0.93157  |  valid -  0.88148\n",
      "train -  0.95960  |  valid -  0.85926\n",
      "train -  0.92910  |  valid -  0.87407\n",
      "train -  0.95136  |  valid -  0.89630\n",
      "train -  0.94889  |  valid -  0.84444\n",
      "train -  0.93405  |  valid -  0.85185\n",
      "train -  0.93899  |  valid -  0.83704\n",
      "train -  0.95552  |  valid -  0.87313\n",
      "train -  0.95387  |  valid -  0.85075\n",
      "Average accuracy on crossval is 0.86276\n",
      "Std is 0.01731\n",
      "\n",
      "645 ms ± 0 ns per loop (mean ± std. dev. of 1 run, 1 loop each)\n"
     ]
    }
   ],
   "source": [
    "%%timeit -n 1 -r 1\n",
    "rf_model = ensemble.RandomForestClassifier(n_estimators=10, max_depth=14, random_state=21)\n",
    "xval(rf_model)"
   ]
  },
  {
   "cell_type": "code",
   "execution_count": 97,
   "metadata": {},
   "outputs": [
    {
     "name": "stdout",
     "output_type": "stream",
     "text": [
      "train -  0.96208  |  valid -  0.88148\n",
      "train -  0.95383  |  valid -  0.90370\n",
      "train -  0.95631  |  valid -  0.84444\n",
      "train -  0.95713  |  valid -  0.89630\n",
      "train -  0.96373  |  valid -  0.90370\n",
      "train -  0.96125  |  valid -  0.85926\n",
      "train -  0.96538  |  valid -  0.90370\n",
      "train -  0.96455  |  valid -  0.88148\n",
      "train -  0.96211  |  valid -  0.88060\n",
      "train -  0.97035  |  valid -  0.86567\n",
      "Average accuracy on crossval is 0.88203\n",
      "Std is 0.01953\n",
      "\n",
      "1.28 s ± 0 ns per loop (mean ± std. dev. of 1 run, 1 loop each)\n"
     ]
    }
   ],
   "source": [
    "%%timeit -n 1 -r 1\n",
    "rf_model = ensemble.RandomForestClassifier(n_estimators=30, max_depth=14, random_state=21)\n",
    "xval(rf_model)"
   ]
  },
  {
   "cell_type": "code",
   "execution_count": 98,
   "metadata": {},
   "outputs": [
    {
     "name": "stdout",
     "output_type": "stream",
     "text": [
      "train -  0.96538  |  valid -  0.88148\n",
      "train -  0.96785  |  valid -  0.91111\n",
      "train -  0.96950  |  valid -  0.88148\n",
      "train -  0.96620  |  valid -  0.89630\n",
      "train -  0.97032  |  valid -  0.91111\n",
      "train -  0.96620  |  valid -  0.88148\n",
      "train -  0.97279  |  valid -  0.91111\n",
      "train -  0.96538  |  valid -  0.86667\n",
      "train -  0.97529  |  valid -  0.88060\n",
      "train -  0.97611  |  valid -  0.85821\n",
      "Average accuracy on crossval is 0.88795\n",
      "Std is 0.01788\n",
      "\n",
      "4.27 s ± 0 ns per loop (mean ± std. dev. of 1 run, 1 loop each)\n"
     ]
    }
   ],
   "source": [
    "%%timeit -n 1 -r 1\n",
    "rf_model = ensemble.RandomForestClassifier(n_estimators=80, max_depth=14, random_state=21)\n",
    "xval(rf_model)"
   ]
  },
  {
   "cell_type": "code",
   "execution_count": 99,
   "metadata": {},
   "outputs": [
    {
     "name": "stdout",
     "output_type": "stream",
     "text": [
      "train -  0.79555  |  valid -  0.72593\n",
      "train -  0.77246  |  valid -  0.77037\n",
      "train -  0.75103  |  valid -  0.65926\n",
      "train -  0.77494  |  valid -  0.74074\n",
      "train -  0.78071  |  valid -  0.75556\n",
      "train -  0.79637  |  valid -  0.68889\n",
      "train -  0.80874  |  valid -  0.78519\n",
      "train -  0.78895  |  valid -  0.66667\n",
      "train -  0.79160  |  valid -  0.71642\n",
      "train -  0.77430  |  valid -  0.70149\n",
      "Average accuracy on crossval is 0.72105\n",
      "Std is 0.04045\n",
      "\n",
      "2.57 s ± 0 ns per loop (mean ± std. dev. of 1 run, 1 loop each)\n"
     ]
    }
   ],
   "source": [
    "%%timeit -n 1 -r 1\n",
    "rf_model = ensemble.RandomForestClassifier(n_estimators=50, max_depth=8, random_state=21)\n",
    "xval(rf_model)"
   ]
  },
  {
   "cell_type": "code",
   "execution_count": 100,
   "metadata": {},
   "outputs": [
    {
     "name": "stdout",
     "output_type": "stream",
     "text": [
      "train -  0.99835  |  valid -  0.91111\n",
      "train -  1.00000  |  valid -  0.94815\n",
      "train -  1.00000  |  valid -  0.88148\n",
      "train -  1.00000  |  valid -  0.94074\n",
      "train -  0.99835  |  valid -  0.92593\n",
      "train -  0.99835  |  valid -  0.88889\n",
      "train -  1.00000  |  valid -  0.92593\n",
      "train -  1.00000  |  valid -  0.89630\n",
      "train -  1.00000  |  valid -  0.93284\n",
      "train -  0.99918  |  valid -  0.89552\n",
      "Average accuracy on crossval is 0.91469\n",
      "Std is 0.02206\n",
      "\n",
      "2.17 s ± 0 ns per loop (mean ± std. dev. of 1 run, 1 loop each)\n"
     ]
    }
   ],
   "source": [
    "%%timeit -n 1 -r 1\n",
    "rf_model = ensemble.RandomForestClassifier(n_estimators=50, max_depth=25, random_state=21)\n",
    "xval(rf_model)"
   ]
  },
  {
   "cell_type": "markdown",
   "metadata": {},
   "source": [
    "## 6. Predictions"
   ]
  },
  {
   "cell_type": "markdown",
   "metadata": {},
   "source": [
    "1. Choose the best model and use it to make predictions for the test dataset.\n",
    "2. Calculate the final accuracy.\n",
    "3. Analyze: for which weekday your model makes the most errors (in % of the total number of samples of that class in your test dataset).\n",
    "4. Save the model."
   ]
  },
  {
   "cell_type": "code",
   "execution_count": 101,
   "metadata": {},
   "outputs": [
    {
     "data": {
      "text/plain": [
       "RandomForestClassifier(max_depth=25, n_estimators=80, random_state=21)"
      ]
     },
     "execution_count": 101,
     "metadata": {},
     "output_type": "execute_result"
    }
   ],
   "source": [
    "rf_model = ensemble.RandomForestClassifier(n_estimators=80, max_depth=25, random_state=21)\n",
    "rf_model.fit(X_train, y_train)"
   ]
  },
  {
   "cell_type": "code",
   "execution_count": 102,
   "metadata": {},
   "outputs": [
    {
     "data": {
      "text/plain": [
       "0.9289940828402367"
      ]
     },
     "execution_count": 102,
     "metadata": {},
     "output_type": "execute_result"
    }
   ],
   "source": [
    "y_pred = rf_model.predict(X_test)\n",
    "metrics.accuracy_score(y_pred, y_test)"
   ]
  },
  {
   "cell_type": "code",
   "execution_count": 103,
   "metadata": {},
   "outputs": [
    {
     "name": "stdout",
     "output_type": "stream",
     "text": [
      "max errors for day 0\n"
     ]
    }
   ],
   "source": [
    "errors_in = y_test[y_test != y_pred]\n",
    "day, counts = np.unique(errors_in, return_counts=True)\n",
    "d = dict(zip(day, counts))\n",
    "max = -1\n",
    "for key, val in d.items():\n",
    "\tif val > max:\n",
    "\t\tmax = val\n",
    "\t\tkey_max = key\n",
    "print(f'max errors for day {key_max}')"
   ]
  },
  {
   "cell_type": "code",
   "execution_count": 104,
   "metadata": {},
   "outputs": [
    {
     "data": {
      "text/plain": [
       "{0: 27, 1: 55, 2: 30, 3: 80, 4: 21, 5: 54, 6: 71}"
      ]
     },
     "execution_count": 104,
     "metadata": {},
     "output_type": "execute_result"
    }
   ],
   "source": [
    "days, full_counts = np.unique(y_test, return_counts=True)\n",
    "d2 = dict(zip(day, full_counts))\n",
    "d2"
   ]
  },
  {
   "cell_type": "code",
   "execution_count": 105,
   "metadata": {},
   "outputs": [
    {
     "name": "stdout",
     "output_type": "stream",
     "text": [
      "that is 25.93%\n"
     ]
    }
   ],
   "source": [
    "print(f'that is {d[key_max]/d2[key_max]*100:.2f}%')"
   ]
  },
  {
   "cell_type": "code",
   "execution_count": 106,
   "metadata": {},
   "outputs": [],
   "source": [
    "with open('../data/final_model.pkl', 'wb') as mod:\n",
    "    pickle.dump(rf_model, mod)"
   ]
  }
 ],
 "metadata": {
  "kernelspec": {
   "display_name": "Python 3",
   "language": "python",
   "name": "python3"
  },
  "language_info": {
   "codemirror_mode": {
    "name": "ipython",
    "version": 3
   },
   "file_extension": ".py",
   "mimetype": "text/x-python",
   "name": "python",
   "nbconvert_exporter": "python",
   "pygments_lexer": "ipython3",
   "version": "3.9.7"
  }
 },
 "nbformat": 4,
 "nbformat_minor": 4
}
